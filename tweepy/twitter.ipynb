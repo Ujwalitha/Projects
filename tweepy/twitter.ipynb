{
 "cells": [
  {
   "cell_type": "code",
   "execution_count": 1,
   "metadata": {},
   "outputs": [
    {
     "ename": "ModuleNotFoundError",
     "evalue": "No module named 'tweepy'",
     "output_type": "error",
     "traceback": [
      "\u001b[1;31m---------------------------------------------------------------------------\u001b[0m",
      "\u001b[1;31mModuleNotFoundError\u001b[0m                       Traceback (most recent call last)",
      "\u001b[1;32m<ipython-input-1-4d9475553cbc>\u001b[0m in \u001b[0;36m<module>\u001b[1;34m\u001b[0m\n\u001b[1;32m----> 1\u001b[1;33m \u001b[1;32mimport\u001b[0m \u001b[0mtweepy\u001b[0m\u001b[1;33m\u001b[0m\u001b[1;33m\u001b[0m\u001b[0m\n\u001b[0m\u001b[0;32m      2\u001b[0m \u001b[1;32mimport\u001b[0m \u001b[0mpandas\u001b[0m \u001b[1;32mas\u001b[0m \u001b[0mpd\u001b[0m\u001b[1;33m\u001b[0m\u001b[1;33m\u001b[0m\u001b[0m\n\u001b[0;32m      3\u001b[0m \u001b[1;32mimport\u001b[0m \u001b[0mnumpy\u001b[0m \u001b[1;32mas\u001b[0m \u001b[0mnp\u001b[0m\u001b[1;33m\u001b[0m\u001b[1;33m\u001b[0m\u001b[0m\n\u001b[0;32m      4\u001b[0m \u001b[1;32mimport\u001b[0m \u001b[0mcsv\u001b[0m\u001b[1;33m\u001b[0m\u001b[1;33m\u001b[0m\u001b[0m\n",
      "\u001b[1;31mModuleNotFoundError\u001b[0m: No module named 'tweepy'"
     ]
    }
   ],
   "source": [
    "import tweepy\n",
    "import pandas as pd\n",
    "import numpy as np\n",
    "import csv"
   ]
  },
  {
   "cell_type": "code",
   "execution_count": null,
   "metadata": {},
   "outputs": [],
   "source": [
    "auth = tweepy.OAuthHandler('key','secret_key')\n",
    "auth.set_access_token('key','secret_key')\n",
    "\n",
    "api = tweepy.API(auth)\n",
    "\n",
    "public_tweets = api.home_timeline()\n",
    "for tweet in public_tweets:\n",
    "    print(tweet.text)"
   ]
  },
  {
   "cell_type": "code",
   "execution_count": 4,
   "metadata": {},
   "outputs": [],
   "source": [
    "with open('trending.csv', 'w', newline='',encoding=\"utf-8\") as csvfile:\n",
    "    fieldnames = ['UserName', 'Tweet_Text','Posted','Location','Followers_count','Favorites_count','Retweet_count','source']\n",
    "    csvWriter = csv.DictWriter(csvfile, fieldnames=fieldnames)\n",
    "    csvWriter.writeheader()\n",
    "    for tweet in tweepy.Cursor(api.search, q='#datascience',lang=\"en\").items(100):\n",
    "    #print(tweet.user.name,tweet.text,tweet.created_at,tweet.user.location,tweet.user.followers_count,tweet.user.favourites_count,tweet.retweet_count,tweet.source)\n",
    "        csvWriter.writerow({'UserName':tweet.user.name,\n",
    "                        'Tweet_Text':tweet.text.encode('utf-8'),\n",
    "                        'Posted':tweet.created_at,\n",
    "                        'Location':tweet.user.location,\n",
    "                        'Followers_count':tweet.user.followers_count,\n",
    "                        'Favorites_count':tweet.user.favourites_count,\n",
    "                        'Retweet_count':tweet.retweet_count,\n",
    "                        'source':tweet.source})"
   ]
  },
  {
   "cell_type": "code",
   "execution_count": 5,
   "metadata": {},
   "outputs": [],
   "source": [
    "df = pd.read_csv('trending.csv')"
   ]
  },
  {
   "cell_type": "code",
   "execution_count": 6,
   "metadata": {},
   "outputs": [
    {
     "data": {
      "text/plain": [
       "(100, 8)"
      ]
     },
     "execution_count": 6,
     "metadata": {},
     "output_type": "execute_result"
    }
   ],
   "source": [
    "df.shape"
   ]
  },
  {
   "cell_type": "code",
   "execution_count": 7,
   "metadata": {},
   "outputs": [
    {
     "data": {
      "text/html": [
       "<div>\n",
       "<style scoped>\n",
       "    .dataframe tbody tr th:only-of-type {\n",
       "        vertical-align: middle;\n",
       "    }\n",
       "\n",
       "    .dataframe tbody tr th {\n",
       "        vertical-align: top;\n",
       "    }\n",
       "\n",
       "    .dataframe thead th {\n",
       "        text-align: right;\n",
       "    }\n",
       "</style>\n",
       "<table border=\"1\" class=\"dataframe\">\n",
       "  <thead>\n",
       "    <tr style=\"text-align: right;\">\n",
       "      <th></th>\n",
       "      <th>UserName</th>\n",
       "      <th>Tweet_Text</th>\n",
       "      <th>Posted</th>\n",
       "      <th>Location</th>\n",
       "      <th>Followers_count</th>\n",
       "      <th>Favorites_count</th>\n",
       "      <th>Retweet_count</th>\n",
       "      <th>source</th>\n",
       "    </tr>\n",
       "  </thead>\n",
       "  <tbody>\n",
       "    <tr>\n",
       "      <th>0</th>\n",
       "      <td>John Abraham</td>\n",
       "      <td>b'3 Tips for Effective Geo-Targeted Marketing ...</td>\n",
       "      <td>2019-11-16 17:50:04</td>\n",
       "      <td>Paris, France</td>\n",
       "      <td>13498</td>\n",
       "      <td>11260</td>\n",
       "      <td>0</td>\n",
       "      <td>Hootsuite Inc.</td>\n",
       "    </tr>\n",
       "    <tr>\n",
       "      <th>1</th>\n",
       "      <td>Avrio Analytics</td>\n",
       "      <td>b\"How should a Data Scientist's resume differ ...</td>\n",
       "      <td>2019-11-16 17:50:02</td>\n",
       "      <td>Knoxville, TN</td>\n",
       "      <td>179</td>\n",
       "      <td>739</td>\n",
       "      <td>0</td>\n",
       "      <td>Buffer</td>\n",
       "    </tr>\n",
       "    <tr>\n",
       "      <th>2</th>\n",
       "      <td>Christopher Burnette</td>\n",
       "      <td>b'RT @enricomolinari: Boston saved 5 million d...</td>\n",
       "      <td>2019-11-16 17:48:48</td>\n",
       "      <td>Austin, TX</td>\n",
       "      <td>7753</td>\n",
       "      <td>116145</td>\n",
       "      <td>18</td>\n",
       "      <td>Calcaware</td>\n",
       "    </tr>\n",
       "    <tr>\n",
       "      <th>3</th>\n",
       "      <td>Dan Steketee 🌎🌊</td>\n",
       "      <td>b\"RT @lindagrass0: Here's an interesting path ...</td>\n",
       "      <td>2019-11-16 17:48:46</td>\n",
       "      <td>Brookline, MA</td>\n",
       "      <td>3549</td>\n",
       "      <td>13099</td>\n",
       "      <td>13</td>\n",
       "      <td>Twitter for iPhone</td>\n",
       "    </tr>\n",
       "    <tr>\n",
       "      <th>4</th>\n",
       "      <td>Fernanda K O Palermo</td>\n",
       "      <td>b'RT @enricomolinari: Boston saved 5 million d...</td>\n",
       "      <td>2019-11-16 17:48:42</td>\n",
       "      <td>Franca - SP, Brazil</td>\n",
       "      <td>7299</td>\n",
       "      <td>20843</td>\n",
       "      <td>18</td>\n",
       "      <td>Twitter for Android</td>\n",
       "    </tr>\n",
       "  </tbody>\n",
       "</table>\n",
       "</div>"
      ],
      "text/plain": [
       "               UserName                                         Tweet_Text  \\\n",
       "0          John Abraham  b'3 Tips for Effective Geo-Targeted Marketing ...   \n",
       "1       Avrio Analytics  b\"How should a Data Scientist's resume differ ...   \n",
       "2  Christopher Burnette  b'RT @enricomolinari: Boston saved 5 million d...   \n",
       "3       Dan Steketee 🌎🌊  b\"RT @lindagrass0: Here's an interesting path ...   \n",
       "4  Fernanda K O Palermo  b'RT @enricomolinari: Boston saved 5 million d...   \n",
       "\n",
       "                Posted             Location  Followers_count  Favorites_count  \\\n",
       "0  2019-11-16 17:50:04        Paris, France            13498            11260   \n",
       "1  2019-11-16 17:50:02        Knoxville, TN              179              739   \n",
       "2  2019-11-16 17:48:48           Austin, TX             7753           116145   \n",
       "3  2019-11-16 17:48:46        Brookline, MA             3549            13099   \n",
       "4  2019-11-16 17:48:42  Franca - SP, Brazil             7299            20843   \n",
       "\n",
       "   Retweet_count               source  \n",
       "0              0       Hootsuite Inc.  \n",
       "1              0               Buffer  \n",
       "2             18            Calcaware  \n",
       "3             13   Twitter for iPhone  \n",
       "4             18  Twitter for Android  "
      ]
     },
     "execution_count": 7,
     "metadata": {},
     "output_type": "execute_result"
    }
   ],
   "source": [
    "df.head()"
   ]
  },
  {
   "cell_type": "code",
   "execution_count": null,
   "metadata": {},
   "outputs": [],
   "source": []
  }
 ],
 "metadata": {
  "kernelspec": {
   "display_name": "Python 3",
   "language": "python",
   "name": "python3"
  },
  "language_info": {
   "codemirror_mode": {
    "name": "ipython",
    "version": 3
   },
   "file_extension": ".py",
   "mimetype": "text/x-python",
   "name": "python",
   "nbconvert_exporter": "python",
   "pygments_lexer": "ipython3",
   "version": "3.7.4"
  }
 },
 "nbformat": 4,
 "nbformat_minor": 2
}
