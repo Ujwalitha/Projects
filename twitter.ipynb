{
 "cells": [
  {
   "cell_type": "code",
   "execution_count": 3,
   "metadata": {},
   "outputs": [],
   "source": [
    "import tweepy\n",
    "import pandas as pd\n",
    "import numpy as np\n",
    "import csv"
   ]
  },
  {
   "cell_type": "code",
   "execution_count": 2,
   "metadata": {},
   "outputs": [
    {
     "name": "stdout",
     "output_type": "stream",
     "text": [
      "Had a wonderful interaction with leaders and MPs across party lines this evening. \n",
      "\n",
      "We look forward to a productive… https://t.co/E2AZIbmtpk\n",
      "झारखंड की जनता को राज्य के स्थापना दिवस की बहुत-बहुत बधाई।\n",
      "\n",
      "मेरी कामना है कि झारखंड प्रगति की नित नई ऊंचाइयों को छु… https://t.co/HO35couRby\n",
      "I would like to specially thank the people and Government of Brazil for the excellent hospitality during this year’… https://t.co/fTSTHU8XMI\n",
      "Gostaria de agradecer especialmente ao povo e ao governo do Brasil por sua excelente hospitalidade durante a Cúpula… https://t.co/24xgWaIwl2\n",
      "The BRICS Summit in Brazil has been a very productive one. We had fruitful dialogues on cementing ties in trade, in… https://t.co/CR7wZwBVLx\n",
      "It was a delight to interact with my friend, President @CyrilRamaphosa during the BRICS Summit. We discussed a wide… https://t.co/m2ktMfPST2\n",
      "I also suggested:\n",
      "\n",
      "A working group to share best practices from our respective small and medium enterprises. \n",
      "\n",
      "Stre… https://t.co/m3qnvn91CS\n",
      "At the interaction with BRICS Business Council and NDB I made the following suggestions:\n",
      "\n",
      "Charting a roadmap for In… https://t.co/aUHesJoEOI\n",
      "Addressing the Dialogue with BRICS Business Council and New Development Bank. https://t.co/P1cqBGBBfL\n",
      "Addressing the BRICS Plenary Session. https://t.co/t8ZZkfOrQW\n",
      "गणितज्ञ डॉ. वशिष्ठ नारायण सिंह जी के निधन के समाचार से अत्यंत दुख हुआ। उनके जाने से देश ने ज्ञान-विज्ञान के क्षेत्र… https://t.co/guR3aBrrZI\n",
      "Tributes to our former PM Pandit Jawaharlal Nehru on his birth anniversary.\n",
      "Addressing the BRICS Business Council. Watch. https://t.co/O4uNMHHzH0\n",
      "Held talks with President Xi Jinping. Several subjects pertaining to deepening bilateral cooperation were discussed… https://t.co/bUX1RoX5C6\n",
      "我与习近平主席举行了会谈，讨论了深化双边合作的几个话题。\n",
      "\n",
      "今天的讨论将为印中关系增添新的活力。 https://t.co/rQtlfFNiYJ\n",
      "Met President @jairbolsonaro on the sidelines of the BRICS Summit in Brazil. Grateful to him and the people of Braz… https://t.co/WlS4qnTFjW\n",
      "Durante nossas conversas de hoje, discutimos o aprofundamento da cooperação em áreas relacionadas à economia, conec… https://t.co/03TNf4WbRh\n",
      "Encontrei o Presidente @jairbolsonaro no contexto da Cúpula do BRICS no Brasil.  Agradecido a ele e ao povo do Bras… https://t.co/PDm4q9lzZT\n",
      "Had an excellent meeting with President Putin. During our talks, we reviewed the full range of India-Russia relatio… https://t.co/QkhEcPalqi\n",
      "Провели прекрасную встречу с президентом Путиным. В ходе наших переговоров мы рассмотрели весь спектр индийско-росс… https://t.co/6sImT6e70G\n"
     ]
    }
   ],
   "source": [
    "auth = tweepy.OAuthHandler('key','secret_key')\n",
    "auth.set_access_token('key','secret_key')\n",
    "\n",
    "api = tweepy.API(auth)\n",
    "\n",
    "public_tweets = api.home_timeline()\n",
    "for tweet in public_tweets:\n",
    "    print(tweet.text)"
   ]
  },
  {
   "cell_type": "code",
   "execution_count": 4,
   "metadata": {},
   "outputs": [],
   "source": [
    "with open('trending.csv', 'w', newline='',encoding=\"utf-8\") as csvfile:\n",
    "    fieldnames = ['UserName', 'Tweet_Text','Posted','Location','Followers_count','Favorites_count','Retweet_count','source']\n",
    "    csvWriter = csv.DictWriter(csvfile, fieldnames=fieldnames)\n",
    "    csvWriter.writeheader()\n",
    "    for tweet in tweepy.Cursor(api.search, q='#datascience',lang=\"en\").items(100):\n",
    "    #print(tweet.user.name,tweet.text,tweet.created_at,tweet.user.location,tweet.user.followers_count,tweet.user.favourites_count,tweet.retweet_count,tweet.source)\n",
    "        csvWriter.writerow({'UserName':tweet.user.name,\n",
    "                        'Tweet_Text':tweet.text.encode('utf-8'),\n",
    "                        'Posted':tweet.created_at,\n",
    "                        'Location':tweet.user.location,\n",
    "                        'Followers_count':tweet.user.followers_count,\n",
    "                        'Favorites_count':tweet.user.favourites_count,\n",
    "                        'Retweet_count':tweet.retweet_count,\n",
    "                        'source':tweet.source})"
   ]
  },
  {
   "cell_type": "code",
   "execution_count": 5,
   "metadata": {},
   "outputs": [],
   "source": [
    "df = pd.read_csv('trending.csv')"
   ]
  },
  {
   "cell_type": "code",
   "execution_count": 6,
   "metadata": {},
   "outputs": [
    {
     "data": {
      "text/plain": [
       "(100, 8)"
      ]
     },
     "execution_count": 6,
     "metadata": {},
     "output_type": "execute_result"
    }
   ],
   "source": [
    "df.shape"
   ]
  },
  {
   "cell_type": "code",
   "execution_count": 7,
   "metadata": {},
   "outputs": [
    {
     "data": {
      "text/html": [
       "<div>\n",
       "<style scoped>\n",
       "    .dataframe tbody tr th:only-of-type {\n",
       "        vertical-align: middle;\n",
       "    }\n",
       "\n",
       "    .dataframe tbody tr th {\n",
       "        vertical-align: top;\n",
       "    }\n",
       "\n",
       "    .dataframe thead th {\n",
       "        text-align: right;\n",
       "    }\n",
       "</style>\n",
       "<table border=\"1\" class=\"dataframe\">\n",
       "  <thead>\n",
       "    <tr style=\"text-align: right;\">\n",
       "      <th></th>\n",
       "      <th>UserName</th>\n",
       "      <th>Tweet_Text</th>\n",
       "      <th>Posted</th>\n",
       "      <th>Location</th>\n",
       "      <th>Followers_count</th>\n",
       "      <th>Favorites_count</th>\n",
       "      <th>Retweet_count</th>\n",
       "      <th>source</th>\n",
       "    </tr>\n",
       "  </thead>\n",
       "  <tbody>\n",
       "    <tr>\n",
       "      <th>0</th>\n",
       "      <td>John Abraham</td>\n",
       "      <td>b'3 Tips for Effective Geo-Targeted Marketing ...</td>\n",
       "      <td>2019-11-16 17:50:04</td>\n",
       "      <td>Paris, France</td>\n",
       "      <td>13498</td>\n",
       "      <td>11260</td>\n",
       "      <td>0</td>\n",
       "      <td>Hootsuite Inc.</td>\n",
       "    </tr>\n",
       "    <tr>\n",
       "      <th>1</th>\n",
       "      <td>Avrio Analytics</td>\n",
       "      <td>b\"How should a Data Scientist's resume differ ...</td>\n",
       "      <td>2019-11-16 17:50:02</td>\n",
       "      <td>Knoxville, TN</td>\n",
       "      <td>179</td>\n",
       "      <td>739</td>\n",
       "      <td>0</td>\n",
       "      <td>Buffer</td>\n",
       "    </tr>\n",
       "    <tr>\n",
       "      <th>2</th>\n",
       "      <td>Christopher Burnette</td>\n",
       "      <td>b'RT @enricomolinari: Boston saved 5 million d...</td>\n",
       "      <td>2019-11-16 17:48:48</td>\n",
       "      <td>Austin, TX</td>\n",
       "      <td>7753</td>\n",
       "      <td>116145</td>\n",
       "      <td>18</td>\n",
       "      <td>Calcaware</td>\n",
       "    </tr>\n",
       "    <tr>\n",
       "      <th>3</th>\n",
       "      <td>Dan Steketee 🌎🌊</td>\n",
       "      <td>b\"RT @lindagrass0: Here's an interesting path ...</td>\n",
       "      <td>2019-11-16 17:48:46</td>\n",
       "      <td>Brookline, MA</td>\n",
       "      <td>3549</td>\n",
       "      <td>13099</td>\n",
       "      <td>13</td>\n",
       "      <td>Twitter for iPhone</td>\n",
       "    </tr>\n",
       "    <tr>\n",
       "      <th>4</th>\n",
       "      <td>Fernanda K O Palermo</td>\n",
       "      <td>b'RT @enricomolinari: Boston saved 5 million d...</td>\n",
       "      <td>2019-11-16 17:48:42</td>\n",
       "      <td>Franca - SP, Brazil</td>\n",
       "      <td>7299</td>\n",
       "      <td>20843</td>\n",
       "      <td>18</td>\n",
       "      <td>Twitter for Android</td>\n",
       "    </tr>\n",
       "  </tbody>\n",
       "</table>\n",
       "</div>"
      ],
      "text/plain": [
       "               UserName                                         Tweet_Text  \\\n",
       "0          John Abraham  b'3 Tips for Effective Geo-Targeted Marketing ...   \n",
       "1       Avrio Analytics  b\"How should a Data Scientist's resume differ ...   \n",
       "2  Christopher Burnette  b'RT @enricomolinari: Boston saved 5 million d...   \n",
       "3       Dan Steketee 🌎🌊  b\"RT @lindagrass0: Here's an interesting path ...   \n",
       "4  Fernanda K O Palermo  b'RT @enricomolinari: Boston saved 5 million d...   \n",
       "\n",
       "                Posted             Location  Followers_count  Favorites_count  \\\n",
       "0  2019-11-16 17:50:04        Paris, France            13498            11260   \n",
       "1  2019-11-16 17:50:02        Knoxville, TN              179              739   \n",
       "2  2019-11-16 17:48:48           Austin, TX             7753           116145   \n",
       "3  2019-11-16 17:48:46        Brookline, MA             3549            13099   \n",
       "4  2019-11-16 17:48:42  Franca - SP, Brazil             7299            20843   \n",
       "\n",
       "   Retweet_count               source  \n",
       "0              0       Hootsuite Inc.  \n",
       "1              0               Buffer  \n",
       "2             18            Calcaware  \n",
       "3             13   Twitter for iPhone  \n",
       "4             18  Twitter for Android  "
      ]
     },
     "execution_count": 7,
     "metadata": {},
     "output_type": "execute_result"
    }
   ],
   "source": [
    "df.head()"
   ]
  },
  {
   "cell_type": "code",
   "execution_count": null,
   "metadata": {},
   "outputs": [],
   "source": []
  }
 ],
 "metadata": {
  "kernelspec": {
   "display_name": "Python 3",
   "language": "python",
   "name": "python3"
  },
  "language_info": {
   "codemirror_mode": {
    "name": "ipython",
    "version": 3
   },
   "file_extension": ".py",
   "mimetype": "text/x-python",
   "name": "python",
   "nbconvert_exporter": "python",
   "pygments_lexer": "ipython3",
   "version": "3.7.3"
  }
 },
 "nbformat": 4,
 "nbformat_minor": 2
}
